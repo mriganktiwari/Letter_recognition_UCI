{
 "cells": [
  {
   "cell_type": "code",
   "execution_count": 54,
   "metadata": {},
   "outputs": [],
   "source": [
    "import numpy as np\n",
    "import pandas as pd\n",
    "import matplotlib.pyplot as plt\n",
    "from pandas import *\n",
    "from sklearn import cross_validation\n",
    "from sklearn.preprocessing import MinMaxScaler"
   ]
  },
  {
   "cell_type": "code",
   "execution_count": 62,
   "metadata": {},
   "outputs": [
    {
     "name": "stdout",
     "output_type": "stream",
     "text": [
      "size of X is: (20000, 16) size of y is: (20000, 1)\n"
     ]
    }
   ],
   "source": [
    "data = read_csv(\"/Users/mrigank/Desktop/python_projects/ML_project/letter-recognition.data.csv\", sep=',', header=None)\n",
    "data\n",
    "data = np.array(data, dtype=object)\n",
    "# seperate out X and y\n",
    "X = data[:,1:]\n",
    "y = data[:,0:1]\n",
    "print(\"size of X is:\", X.shape, \"size of y is:\", y.shape)\n"
   ]
  },
  {
   "cell_type": "code",
   "execution_count": 63,
   "metadata": {},
   "outputs": [
    {
     "data": {
      "text/plain": [
       "array([[2, 8, 3, ..., 8, 0, 8],\n",
       "       [5, 12, 3, ..., 8, 4, 10],\n",
       "       [4, 11, 6, ..., 7, 3, 9],\n",
       "       ..., \n",
       "       [6, 9, 6, ..., 12, 2, 4],\n",
       "       [2, 3, 4, ..., 9, 5, 8],\n",
       "       [4, 9, 6, ..., 7, 2, 8]], dtype=object)"
      ]
     },
     "execution_count": 63,
     "metadata": {},
     "output_type": "execute_result"
    }
   ],
   "source": [
    "#X -= np.mean(X, axis = 0) # zero-center the data (important)\n",
    "#X /= np.max(X, axis = 0)\n",
    "#X = np.array(X, dtype=float)\n",
    "#X = np.around(X, decimals=2)\n",
    "X"
   ]
  },
  {
   "cell_type": "code",
   "execution_count": 64,
   "metadata": {
    "collapsed": true
   },
   "outputs": [],
   "source": [
    "## y labels are formatted into a array of 26 binary numbers, for 26 different classes\n",
    "y_new = np.zeros(shape = (y.shape))\n",
    "u = np.unique(y)\n",
    "\n",
    "for i in range(len(y)):\n",
    "    for j in range(len(u)):\n",
    "        if (y[i] == u[j]):\n",
    "            y_new[i]=j\n",
    "            break"
   ]
  },
  {
   "cell_type": "code",
   "execution_count": 65,
   "metadata": {
    "collapsed": true
   },
   "outputs": [],
   "source": [
    "y_new = np.around(y_new, decimals=0)\n"
   ]
  },
  {
   "cell_type": "code",
   "execution_count": 66,
   "metadata": {},
   "outputs": [
    {
     "data": {
      "text/plain": [
       "array(['A', 'B', 'C', 'D', 'E', 'F', 'G', 'H', 'I', 'J', 'K', 'L', 'M',\n",
       "       'N', 'O', 'P', 'Q', 'R', 'S', 'T', 'U', 'V', 'W', 'X', 'Y', 'Z'], dtype=object)"
      ]
     },
     "execution_count": 66,
     "metadata": {},
     "output_type": "execute_result"
    }
   ],
   "source": [
    "np.unique(y)"
   ]
  },
  {
   "cell_type": "code",
   "execution_count": 67,
   "metadata": {},
   "outputs": [
    {
     "data": {
      "text/plain": [
       "array([  0.,   1.,   2.,   3.,   4.,   5.,   6.,   7.,   8.,   9.,  10.,\n",
       "        11.,  12.,  13.,  14.,  15.,  16.,  17.,  18.,  19.,  20.,  21.,\n",
       "        22.,  23.,  24.,  25.])"
      ]
     },
     "execution_count": 67,
     "metadata": {},
     "output_type": "execute_result"
    }
   ],
   "source": [
    "np.unique(y_new)"
   ]
  },
  {
   "cell_type": "code",
   "execution_count": 68,
   "metadata": {},
   "outputs": [
    {
     "name": "stdout",
     "output_type": "stream",
     "text": [
      "size of X is: (10, 16) size of y is: (10, 1)\n"
     ]
    }
   ],
   "source": [
    "X = X[100:110,:]\n",
    "y_new = y_new[100:110,:]\n",
    "print(\"size of X is:\", X.shape, \"size of y is:\", y_new.shape)"
   ]
  },
  {
   "cell_type": "code",
   "execution_count": 69,
   "metadata": {},
   "outputs": [
    {
     "data": {
      "text/plain": [
       "array([[2, 7, 3, 5, 1, 6, 10, 0, 3, 7, 11, 8, 1, 11, 0, 8],\n",
       "       [6, 8, 7, 6, 4, 6, 9, 4, 8, 11, 7, 6, 2, 8, 5, 5],\n",
       "       [5, 9, 6, 7, 5, 7, 7, 7, 5, 7, 6, 7, 2, 8, 9, 8],\n",
       "       [2, 3, 2, 2, 1, 7, 11, 2, 6, 7, 10, 8, 1, 11, 1, 7],\n",
       "       [2, 3, 3, 2, 1, 4, 7, 4, 6, 10, 9, 13, 1, 9, 2, 7],\n",
       "       [4, 10, 7, 7, 2, 9, 8, 5, 3, 5, 14, 8, 3, 9, 0, 8],\n",
       "       [5, 8, 5, 6, 3, 6, 12, 4, 7, 12, 9, 4, 2, 12, 2, 4],\n",
       "       [7, 12, 6, 6, 3, 7, 8, 2, 7, 9, 7, 8, 5, 8, 3, 7],\n",
       "       [3, 8, 4, 6, 4, 7, 8, 7, 6, 7, 7, 5, 3, 8, 3, 7],\n",
       "       [2, 1, 3, 1, 1, 7, 8, 4, 0, 7, 8, 8, 6, 10, 0, 8]], dtype=object)"
      ]
     },
     "execution_count": 69,
     "metadata": {},
     "output_type": "execute_result"
    }
   ],
   "source": [
    "X"
   ]
  },
  {
   "cell_type": "code",
   "execution_count": 70,
   "metadata": {},
   "outputs": [
    {
     "data": {
      "text/plain": [
       "array([[ 24.],\n",
       "       [ 18.],\n",
       "       [ 18.],\n",
       "       [ 19.],\n",
       "       [  2.],\n",
       "       [ 21.],\n",
       "       [ 19.],\n",
       "       [ 10.],\n",
       "       [  3.],\n",
       "       [ 22.]])"
      ]
     },
     "execution_count": 70,
     "metadata": {},
     "output_type": "execute_result"
    }
   ],
   "source": [
    "y_new"
   ]
  },
  {
   "cell_type": "code",
   "execution_count": 9,
   "metadata": {},
   "outputs": [
    {
     "data": {
      "text/plain": [
       "((75, 16), (75, 1))"
      ]
     },
     "execution_count": 9,
     "metadata": {},
     "output_type": "execute_result"
    }
   ],
   "source": [
    "# 25% of the data is kept apart for cross-validation and testing\n",
    "## sklearn function is used to do so\n",
    "X_train, X_t_cv, y_train, y_t_cv = cross_validation.train_test_split(X, y_new, test_size=0.25)\n",
    "# data seperated for test & cross-validation\n",
    "X_cv, X_test, y_cv, y_test = cross_validation.train_test_split(X_t_cv, y_t_cv, test_size=0.5)\n",
    "X_train.shape, y_train.shape\n",
    "# train: 15000 : cv: 2500 : test: 2500 observations"
   ]
  },
  {
   "cell_type": "code",
   "execution_count": 71,
   "metadata": {
    "collapsed": true
   },
   "outputs": [],
   "source": [
    "#N = 100  # number of points per class\n",
    "D = 16  # dimensionality\n",
    "K = 26  # number of classes"
   ]
  },
  {
   "cell_type": "code",
   "execution_count": 79,
   "metadata": {
    "collapsed": true
   },
   "outputs": [],
   "source": [
    "# initialize parameters randomly\n",
    "h = 32  # size of hidden layer\n",
    "W = 0.001 * np.random.randn(D, h)\n",
    "b = np.zeros((1, h))\n",
    "W2 = 0.001 * np.random.randn(h, K)\n",
    "b2 = np.zeros((1, K))"
   ]
  },
  {
   "cell_type": "code",
   "execution_count": 80,
   "metadata": {
    "collapsed": true
   },
   "outputs": [],
   "source": [
    "# some hyperparameters\n",
    "step_size = 0.1\n",
    "reg = 0 #1e-3  # regularization strength"
   ]
  },
  {
   "cell_type": "code",
   "execution_count": 81,
   "metadata": {},
   "outputs": [
    {
     "data": {
      "text/plain": [
       "array([[9.383955545032568e-05, -0.0001273405152461553,\n",
       "        0.00029515226647681893, 8.719039211382394e-07,\n",
       "        -8.51549410929569e-05, 9.590035506235171e-05,\n",
       "        9.817413553590742e-05, 3.580575593238504e-05,\n",
       "        -0.00017967859044820352, 1.1090553017090069e-06,\n",
       "        -0.0001186814518851819, 5.6781173473443574e-05,\n",
       "        0.00021667476377241492, 1.8591838768487e-05,\n",
       "        -0.0001179869151891392, 4.29961213964558e-05,\n",
       "        5.312308055627674e-05, 5.9071909940405364e-05,\n",
       "        -8.800111217968191e-05, 1.149880030217374e-05,\n",
       "        -1.0953723754900007e-05, 2.29008351397889e-06,\n",
       "        -2.3476393389277198e-05, 0.0001083527952433666,\n",
       "        -2.7274749588429454e-05, 9.298198306149839e-05],\n",
       "       [8.593176515828303e-05, -0.00010774913064537267,\n",
       "        0.0002753969319522033, -6.050101421110496e-05,\n",
       "        -0.0001493269143637987, 5.597864433680068e-05,\n",
       "        0.00018576440612763908, 5.681642078511911e-05,\n",
       "        -0.00017095292172363032, 2.559906462557818e-05,\n",
       "        -0.00010280142802179644, 6.491986526540404e-05,\n",
       "        0.00019035173963449846, 1.5716147544613253e-05,\n",
       "        4.892547869186528e-05, 8.417540112858658e-06,\n",
       "        1.700394541993826e-05, 0.00011321288808666517,\n",
       "        -7.38781330368764e-05, 7.969153446913202e-05,\n",
       "        -9.26884509300595e-06, -0.0001441169890090318,\n",
       "        7.796425963656041e-05, 0.00010475724095162432,\n",
       "        -3.322578847449616e-05, -2.9429064756365772e-05],\n",
       "       [5.668621346303142e-05, -0.00013293577321165493,\n",
       "        0.0002329648202848906, 3.656482224107725e-06,\n",
       "        -8.16955092803638e-05, 3.453571702394916e-05,\n",
       "        0.00027163104378836463, 0.00011061675578545517,\n",
       "        -0.00014247005002980683, 1.696730111874674e-05,\n",
       "        -0.00016054534682779197, 9.050253325986996e-05,\n",
       "        0.0002117821715979392, 4.781038792306297e-05,\n",
       "        7.310616529091754e-05, -3.470743541509542e-05,\n",
       "        1.2561855109024034e-05, 0.00010247900646924572,\n",
       "        -0.00011762037294260821, 0.00014350235115389675,\n",
       "        -5.20875572478573e-05, -0.00014614654487825424,\n",
       "        0.00011629178277176096, 0.00011521397113914935,\n",
       "        -9.914161300038886e-05, -4.047963089647966e-06],\n",
       "       [9.120764781976445e-05, -8.207742555895287e-05,\n",
       "        0.00024741447382341085, -2.2383534290155757e-05,\n",
       "        -9.766374265608152e-05, 6.66546614090409e-05,\n",
       "        9.677813825304951e-05, 2.5704652379399752e-05,\n",
       "        -0.00016656114799894415, 8.432674679738042e-05,\n",
       "        -7.008628237418522e-05, 3.9380179566742984e-05,\n",
       "        0.00015337278169825976, 2.4039563737027692e-05,\n",
       "        -0.00010437770446066784, 5.876669160792956e-05,\n",
       "        6.188106873454139e-05, 6.768060345283363e-05,\n",
       "        -1.5256989436569329e-05, 1.606775473952074e-05,\n",
       "        -1.5014375848719959e-05, 1.2703471608939015e-05,\n",
       "        -3.1461959463341655e-06, 0.00011135627172772627,\n",
       "        9.460931228214831e-06, 1.0959684458357133e-05],\n",
       "       [5.02920152512076e-05, -6.393044357253959e-05,\n",
       "        0.00023332020351869584, 3.133765908511103e-05,\n",
       "        -9.656071701768017e-05, 0.00010268568496734944,\n",
       "        6.936343317092092e-05, 2.9993152173015798e-05,\n",
       "        -0.00019872827629795743, 5.523888014717068e-05,\n",
       "        -3.2656630428749616e-05, 0.00011034069926762767,\n",
       "        0.00017440402459189988, 7.567609144691738e-06,\n",
       "        -8.537246753326965e-05, 4.404857150852095e-05,\n",
       "        6.525499923491063e-05, 7.985050881343372e-05,\n",
       "        -4.3391621364290904e-05, 2.9577410471166468e-05,\n",
       "        -2.238046701586728e-05, 2.9439036998423644e-06,\n",
       "        -1.6554152042352725e-05, 0.00011256710920590964,\n",
       "        7.0923428917389055e-06, 2.8048545291671327e-05],\n",
       "       [0.00014582088575399975, -0.00013453285241027808,\n",
       "        0.00031949389497541296, -1.6093065892228705e-05,\n",
       "        -9.416049957166781e-05, 8.412282811687708e-05,\n",
       "        0.0001749485465675559, 8.418360042207481e-05,\n",
       "        -0.0002071471985457997, -3.514030086097716e-05,\n",
       "        -0.00018280290435022505, 6.26658352864429e-05,\n",
       "        0.0002532049328744398, 1.0527087811320302e-05,\n",
       "        -6.068657589089267e-05, 1.291053327059851e-05,\n",
       "        -4.365811954915212e-07, 0.00012378016111789307,\n",
       "        -0.00013383215557649718, 8.996296639267448e-05,\n",
       "        -3.4267266132148554e-05, -7.450045635098973e-05,\n",
       "        -4.2072043704675797e-05, 8.579941896118059e-05,\n",
       "        -8.820980118463161e-05, 9.751348517535918e-05],\n",
       "       [0.00011465592342990136, -9.991619464808096e-05,\n",
       "        0.0003198119543533126, -5.2866745174010325e-05,\n",
       "        -0.00017818038315838203, 8.70911217213125e-05,\n",
       "        0.00017701456248718256, 3.7624695825373304e-05,\n",
       "        -0.0002104262128899464, 5.9605536603003794e-05,\n",
       "        -0.00011089367012333075, 5.151782405625157e-05,\n",
       "        0.00018966403300599638, 2.5858462385263753e-05,\n",
       "        -1.4379557945243218e-06, 5.2446873438194484e-05,\n",
       "        3.515398164579682e-05, 0.00012658934296616174,\n",
       "        -9.105319385200895e-05, 6.61723036653847e-05,\n",
       "        2.744383448306855e-05, -9.939894149058647e-05,\n",
       "        5.153666699454967e-05, 0.00015553486098752325,\n",
       "        -2.361879663469334e-05, -9.65318075420911e-06],\n",
       "       [8.825219417567103e-05, -0.00016015240302210258,\n",
       "        0.00033656091771340377, -6.643733543019687e-05,\n",
       "        -0.00011979344375545324, 5.824038039399213e-05,\n",
       "        0.00017854501795960093, 4.266838197353909e-05,\n",
       "        -0.00018191529504920398, -5.6591927886958675e-05,\n",
       "        -0.00010938584684973081, 6.714512689709153e-05,\n",
       "        0.00024116568043221963, -1.1239958732270785e-05,\n",
       "        3.630536063527699e-05, -1.8282175642109335e-06,\n",
       "        -1.4599053678535545e-05, 9.734518399345778e-05,\n",
       "        -0.00010135186717053174, 6.898210505108525e-05,\n",
       "        -2.0524449990107458e-05, -0.00013012092809270908,\n",
       "        4.177732948316228e-05, 7.991981861555501e-05,\n",
       "        -3.437706990861398e-05, 3.6947958518460645e-05],\n",
       "       [9.241713376563708e-05, -0.00010953061303447097,\n",
       "        0.00021496406009860307, -1.4277008113232478e-05,\n",
       "        -8.696497906735825e-05, 4.820872482938363e-05,\n",
       "        0.00020326511709960304, 8.973536149546919e-05,\n",
       "        -0.00016785929267193163, 2.381320405792231e-05,\n",
       "        -0.00012286386217822003, 9.180029826783938e-05,\n",
       "        0.00021643237634327088, 3.270005041841019e-05,\n",
       "        1.9775969591099154e-05, 8.857292256806128e-06,\n",
       "        8.552937967728029e-06, 0.00010832573421473612,\n",
       "        -0.00012076134305797194, 0.00011519744964254629,\n",
       "        -1.8193879736205545e-05, -0.00011631596420690914,\n",
       "        5.6033125950489835e-05, 0.00011575822633323591,\n",
       "        -7.813558377525238e-05, 4.942875169665298e-06],\n",
       "       [6.162958981410113e-05, -0.00011771016601528032,\n",
       "        0.0002698295770703154, 4.168263806243673e-05,\n",
       "        -4.589556210964221e-05, 0.0001136074277864927,\n",
       "        7.584971362981038e-05, 1.703157171264712e-05,\n",
       "        -0.00015900506274026823, 3.35128815239824e-05,\n",
       "        -9.08253700310872e-05, 6.266931475308526e-05,\n",
       "        0.0001781737013820834, 1.7493430500307118e-05,\n",
       "        -0.00015524433196046613, 3.563579992763305e-05,\n",
       "        5.6606966517130645e-05, 3.4090058936984e-05,\n",
       "        -5.8596066644776374e-05, 8.357948676632181e-06,\n",
       "        -5.619583202942584e-05, 8.888116799785146e-05,\n",
       "        -4.70900379267811e-05, 0.00010117894164241267,\n",
       "        -2.740657927861731e-05, 0.0001244598476161238]], dtype=object)"
      ]
     },
     "execution_count": 81,
     "metadata": {},
     "output_type": "execute_result"
    }
   ],
   "source": [
    "hidden_layer = np.maximum(0, np.dot(X, W) + b)  # note, ReLU activation\n",
    "scores = np.dot(hidden_layer, W2) + b2\n",
    "scores"
   ]
  },
  {
   "cell_type": "code",
   "execution_count": 82,
   "metadata": {
    "scrolled": false
   },
   "outputs": [
    {
     "name": "stdout",
     "output_type": "stream",
     "text": [
      "i: 0\n",
      "iteration: 0 loss:  32.5811559677\n",
      "i: 1\n",
      "i: 2\n",
      "i: 3\n",
      "i: 4\n"
     ]
    },
    {
     "ename": "FloatingPointError",
     "evalue": "overflow encountered in exp",
     "output_type": "error",
     "traceback": [
      "\u001b[0;31m---------------------------------------------------------------------------\u001b[0m",
      "\u001b[0;31mFloatingPointError\u001b[0m                        Traceback (most recent call last)",
      "\u001b[0;32m<ipython-input-82-cca1bc966474>\u001b[0m in \u001b[0;36m<module>\u001b[0;34m()\u001b[0m\n\u001b[1;32m     11\u001b[0m     \u001b[0mprint\u001b[0m\u001b[0;34m(\u001b[0m\u001b[0;34m\"i:\"\u001b[0m\u001b[0;34m,\u001b[0m \u001b[0mi\u001b[0m\u001b[0;34m)\u001b[0m\u001b[0;34m\u001b[0m\u001b[0m\n\u001b[1;32m     12\u001b[0m     \u001b[0;31m#print(scores[2,3])\u001b[0m\u001b[0;34m\u001b[0m\u001b[0;34m\u001b[0m\u001b[0m\n\u001b[0;32m---> 13\u001b[0;31m     \u001b[0mexp_scores\u001b[0m \u001b[0;34m=\u001b[0m \u001b[0mnp\u001b[0m\u001b[0;34m.\u001b[0m\u001b[0mexp\u001b[0m\u001b[0;34m(\u001b[0m\u001b[0mnp\u001b[0m\u001b[0;34m.\u001b[0m\u001b[0mfloat64\u001b[0m\u001b[0;34m(\u001b[0m\u001b[0mscores\u001b[0m\u001b[0;34m)\u001b[0m\u001b[0;34m)\u001b[0m\u001b[0;34m\u001b[0m\u001b[0m\n\u001b[0m\u001b[1;32m     14\u001b[0m     \u001b[0mprobs\u001b[0m \u001b[0;34m=\u001b[0m \u001b[0mexp_scores\u001b[0m \u001b[0;34m/\u001b[0m \u001b[0mnp\u001b[0m\u001b[0;34m.\u001b[0m\u001b[0msum\u001b[0m\u001b[0;34m(\u001b[0m\u001b[0mexp_scores\u001b[0m\u001b[0;34m,\u001b[0m \u001b[0maxis\u001b[0m\u001b[0;34m=\u001b[0m\u001b[0;36m1\u001b[0m\u001b[0;34m,\u001b[0m \u001b[0mkeepdims\u001b[0m\u001b[0;34m=\u001b[0m\u001b[0;32mTrue\u001b[0m\u001b[0;34m)\u001b[0m  \u001b[0;31m# [N x K]\u001b[0m\u001b[0;34m\u001b[0m\u001b[0m\n\u001b[1;32m     15\u001b[0m \u001b[0;34m\u001b[0m\u001b[0m\n",
      "\u001b[0;31mFloatingPointError\u001b[0m: overflow encountered in exp"
     ]
    }
   ],
   "source": [
    "# gradient descent loop\n",
    "num_examples = X.shape[0]\n",
    "np.seterr(all='raise')\n",
    "for i in range(10000):\n",
    "\n",
    "    # evaluate class scores, [N x K]\n",
    "    hidden_layer = np.maximum(0, np.dot(X, W) + b)  # note, ReLU activation\n",
    "    scores = np.dot(hidden_layer, W2) + b2\n",
    "\n",
    "    # compute the class probabilities\n",
    "    print(\"i:\", i)\n",
    "    #print(scores[2,3])\n",
    "    exp_scores = np.exp(np.float64(scores))\n",
    "    probs = exp_scores / np.sum(exp_scores, axis=1, keepdims=True)  # [N x K]\n",
    "\n",
    "    # compute the loss: average cross-entropy loss and regularization\n",
    "    corect_logprobs = -np.log(probs[range(num_examples), y_new.astype(int)])\n",
    "    data_loss = np.sum(corect_logprobs) / num_examples\n",
    "    reg_loss = 0.5 * reg * np.sum(W * W) + 0.5 * reg * np.sum(W2 * W2)\n",
    "    loss = data_loss + reg_loss\n",
    "    if i % 1000 == 0:\n",
    "        print(\"iteration:\", i, \"loss: \", loss)\n",
    "\n",
    "    # compute the gradient on scores\n",
    "    dscores = probs\n",
    "    dscores[range(num_examples), y_new.astype(int)] -= 1\n",
    "    dscores /= num_examples\n",
    "\n",
    "    # backpropate the gradient to the parameters\n",
    "    # first backprop into parameters W2 and b2\n",
    "    dW2 = np.dot(hidden_layer.T, dscores)\n",
    "    db2 = np.sum(dscores, axis=0, keepdims=True)\n",
    "    # next backprop into hidden layer\n",
    "    dhidden = np.dot(dscores, W2.T)\n",
    "    # backprop the ReLU non-linearity\n",
    "    dhidden[hidden_layer <= 0] = 0\n",
    "    # finally into W,b\n",
    "    dW = np.dot(X.T, dhidden)\n",
    "    db = np.sum(dhidden, axis=0, keepdims=True)\n",
    "\n",
    "    # add regularization gradient contribution\n",
    "    dW2 += reg * W2\n",
    "    dW += reg * W\n",
    "\n",
    "    # perform a parameter update\n",
    "    W = W - (step_size * dW)\n",
    "    b = b - (step_size * db)\n",
    "    W2 = W2 - (step_size * dW2)\n",
    "    b2 = b2 - (step_size * db2)\n"
   ]
  },
  {
   "cell_type": "code",
   "execution_count": 15,
   "metadata": {
    "scrolled": true
   },
   "outputs": [
    {
     "data": {
      "text/plain": [
       "array([[ 1019.96838784,  1017.62812345,  1020.19010631, ...,\n",
       "         1017.79983993,    -2.13902841,    -1.51737584],\n",
       "       [ 1029.22418603,  1026.86437657,  1029.4460778 , ...,\n",
       "         1027.03715127,    -2.15720067,    -1.52896707],\n",
       "       [ 1018.49228396,  1016.15929058,  1018.71576867, ...,\n",
       "         1016.3297352 ,    -2.13491693,    -1.51437273],\n",
       "       ..., \n",
       "       [ 1001.89645105,   999.59930425,  1002.11503256, ...,\n",
       "          999.76676324,    -2.10129292,    -1.49146681],\n",
       "       [ 1051.75552051,  1049.34126484,  1051.98350284, ...,\n",
       "         1049.52088271,    -2.20319834,    -1.56245528],\n",
       "       [ 1091.32085339,  1088.8170872 ,  1091.5605351 , ...,\n",
       "         1089.00623604,    -2.28278227,    -1.61894958]])"
      ]
     },
     "execution_count": 15,
     "metadata": {},
     "output_type": "execute_result"
    }
   ],
   "source": [
    "scores"
   ]
  },
  {
   "cell_type": "code",
   "execution_count": 21,
   "metadata": {},
   "outputs": [
    {
     "data": {
      "text/plain": [
       "2.6881171418161356e+43"
      ]
     },
     "execution_count": 21,
     "metadata": {},
     "output_type": "execute_result"
    }
   ],
   "source": [
    "np.exp(100)"
   ]
  },
  {
   "cell_type": "code",
   "execution_count": 39,
   "metadata": {},
   "outputs": [
    {
     "name": "stdout",
     "output_type": "stream",
     "text": [
      "[[ 0.22  0.62 -0.02 ...,  0.15  0.36  0.18]\n",
      " [-0.01 -0.15  0.11 ...,  0.36  0.36 -0.14]\n",
      " [-0.01 -0.02  0.11 ..., -0.27  0.25 -0.14]\n",
      " ..., \n",
      " [-0.01  0.24 -0.15 ..., -0.06  0.36  0.18]\n",
      " [ 0.1   0.36  0.24 ..., -0.27  0.36  0.35]\n",
      " [ 0.22  0.36 -0.02 ...,  0.15  0.04 -0.14]]\n"
     ]
    }
   ],
   "source": [
    "print(X_train)"
   ]
  },
  {
   "cell_type": "code",
   "execution_count": 45,
   "metadata": {},
   "outputs": [
    {
     "data": {
      "text/plain": [
       "array([[  4.31884240e-04,  -6.58404366e-04,   1.31197886e-03, ...,\n",
       "          4.51130063e-05,  -4.25498956e-04,   5.26483825e-05],\n",
       "       [  3.83254805e-05,  -7.04059758e-04,  -3.18262525e-05, ...,\n",
       "         -1.76491048e-05,  -1.37133311e-04,   2.94302159e-04],\n",
       "       [ -3.36575085e-04,   3.07283677e-04,  -3.75869643e-04, ...,\n",
       "         -1.93578635e-04,   3.12090417e-04,   2.30162677e-04],\n",
       "       ..., \n",
       "       [ -1.26300996e-04,  -1.25848545e-03,   3.15959156e-04, ...,\n",
       "          2.75332498e-05,   4.32456422e-04,  -7.18736077e-04],\n",
       "       [ -8.00550152e-05,  -2.66919190e-04,   5.40987105e-04, ...,\n",
       "         -4.82480956e-04,   5.33839388e-04,  -6.11393212e-04],\n",
       "       [  8.40877814e-06,  -2.97410346e-04,   5.73251642e-04, ...,\n",
       "         -9.10491108e-06,  -2.07307414e-04,   2.62519900e-04]])"
      ]
     },
     "execution_count": 45,
     "metadata": {},
     "output_type": "execute_result"
    }
   ],
   "source": [
    "np.dot(np.dot(X_train, W), W2)"
   ]
  },
  {
   "cell_type": "code",
   "execution_count": 41,
   "metadata": {},
   "outputs": [
    {
     "data": {
      "text/plain": [
       "array([[ 0.,  0.,  0.,  0.,  0.,  0.,  0.,  0.,  0.,  0.,  0.,  0.,  0.,\n",
       "         0.,  0.,  0.,  0.,  0.,  0.,  0.,  0.,  0.,  0.,  0.,  0.,  0.,\n",
       "         0.,  0.,  0.,  0.,  0.,  0.]])"
      ]
     },
     "execution_count": 41,
     "metadata": {},
     "output_type": "execute_result"
    }
   ],
   "source": [
    "b"
   ]
  },
  {
   "cell_type": "code",
   "execution_count": null,
   "metadata": {
    "collapsed": true
   },
   "outputs": [],
   "source": []
  },
  {
   "cell_type": "code",
   "execution_count": null,
   "metadata": {
    "collapsed": true
   },
   "outputs": [],
   "source": []
  },
  {
   "cell_type": "code",
   "execution_count": null,
   "metadata": {
    "collapsed": true
   },
   "outputs": [],
   "source": []
  }
 ],
 "metadata": {
  "kernelspec": {
   "display_name": "Python 3",
   "language": "python",
   "name": "python3"
  },
  "language_info": {
   "codemirror_mode": {
    "name": "ipython",
    "version": 3
   },
   "file_extension": ".py",
   "mimetype": "text/x-python",
   "name": "python",
   "nbconvert_exporter": "python",
   "pygments_lexer": "ipython3",
   "version": "3.6.0"
  }
 },
 "nbformat": 4,
 "nbformat_minor": 2
}
