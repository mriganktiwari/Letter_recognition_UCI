{
 "cells": [
  {
   "cell_type": "code",
   "execution_count": 1,
   "metadata": {
    "scrolled": true
   },
   "outputs": [
    {
     "name": "stderr",
     "output_type": "stream",
     "text": [
      "/anaconda/anaconda/lib/python3.6/site-packages/sklearn/cross_validation.py:44: DeprecationWarning: This module was deprecated in version 0.18 in favor of the model_selection module into which all the refactored classes and functions are moved. Also note that the interface of the new CV iterators are different from that of this module. This module will be removed in 0.20.\n",
      "  \"This module will be removed in 0.20.\", DeprecationWarning)\n"
     ]
    }
   ],
   "source": [
    "import numpy as np\n",
    "import pandas as pd\n",
    "import matplotlib.pyplot as plt\n",
    "from pandas import *\n",
    "from sklearn import cross_validation"
   ]
  },
  {
   "cell_type": "code",
   "execution_count": 2,
   "metadata": {
    "collapsed": true
   },
   "outputs": [],
   "source": [
    "data = read_csv(\"/Users/mrigank/Desktop/python_projects/ML_project/letter-recognition.data.csv\", sep=',', header=None)"
   ]
  },
  {
   "cell_type": "code",
   "execution_count": 3,
   "metadata": {},
   "outputs": [
    {
     "data": {
      "text/plain": [
       "array([['T', 2, 8, ..., 8, 0, 8],\n",
       "       ['I', 5, 12, ..., 8, 4, 10],\n",
       "       ['D', 4, 11, ..., 7, 3, 9],\n",
       "       ..., \n",
       "       ['T', 6, 9, ..., 12, 2, 4],\n",
       "       ['S', 2, 3, ..., 9, 5, 8],\n",
       "       ['A', 4, 9, ..., 7, 2, 8]], dtype=object)"
      ]
     },
     "execution_count": 3,
     "metadata": {},
     "output_type": "execute_result"
    }
   ],
   "source": [
    "data = np.array(data, dtype=object)\n",
    "data"
   ]
  },
  {
   "cell_type": "code",
   "execution_count": 5,
   "metadata": {},
   "outputs": [
    {
     "name": "stdout",
     "output_type": "stream",
     "text": [
      "size of X is: (20000, 16) size of y is: (20000, 1)\n",
      "size of X is: (20000, 17) size of y is: (20000, 1)\n"
     ]
    }
   ],
   "source": [
    "# seperate out X and y\n",
    "X = data[:,1:]\n",
    "y = data[:,0:1]\n",
    "print(\"size of X is:\", X.shape, \"size of y is:\", y.shape)\n",
    "# insert the 1's to X\n",
    "## adding biases to original X\n",
    "X = np.insert(X,0,1,axis=1)\n",
    "# X = np.concatenate((np.ones(shape = (X.shape[0],1)),X),axis=1)\n",
    "print(\"size of X is:\", X.shape, \"size of y is:\", y.shape)"
   ]
  },
  {
   "cell_type": "code",
   "execution_count": 88,
   "metadata": {},
   "outputs": [
    {
     "data": {
      "text/plain": [
       "(15000, 16)"
      ]
     },
     "execution_count": 88,
     "metadata": {},
     "output_type": "execute_result"
    }
   ],
   "source": [
    "# 25% of the data is kept apart for cross-validation and testing\n",
    "## sklearn function is used to do so\n",
    "X_train, X_t_cv, y_train, y_t_cv = cross_validation.train_test_split(X, y, test_size=0.25)\n",
    "# data seperated for test & cross-validation\n",
    "X_cv, X_test, y_cv, y_test = cross_validation.train_test_split(X_t_cv, y_t_cv, test_size=0.5)\n",
    "X_train.shape\n",
    "# train: 15000 : cv: 2500 : test: 2500 observations"
   ]
  },
  {
   "cell_type": "code",
   "execution_count": 30,
   "metadata": {
    "collapsed": true
   },
   "outputs": [],
   "source": [
    "## y labels are formatted into a array of 26 binary numbers, for 26 different classes\n",
    "temp = np.zeros(shape = (y_train.shape[0],26))\n",
    "temp\n",
    "#y_train.append(temp)\n",
    "u = np.unique(y_train)\n",
    "for i in range(len(y_train)):\n",
    "    for j in range(len(temp[0])):\n",
    "        if (y_train[i] == u[j]):\n",
    "            temp[i,j]=1\n",
    "            break"
   ]
  },
  {
   "cell_type": "code",
   "execution_count": 89,
   "metadata": {},
   "outputs": [
    {
     "data": {
      "text/plain": [
       "(15000, 26)"
      ]
     },
     "execution_count": 89,
     "metadata": {},
     "output_type": "execute_result"
    }
   ],
   "source": [
    "temp.shape"
   ]
  },
  {
   "cell_type": "code",
   "execution_count": 90,
   "metadata": {},
   "outputs": [
    {
     "data": {
      "text/plain": [
       "array(['Y'], dtype=object)"
      ]
     },
     "execution_count": 90,
     "metadata": {},
     "output_type": "execute_result"
    }
   ],
   "source": [
    "y_train[1]"
   ]
  },
  {
   "cell_type": "code",
   "execution_count": null,
   "metadata": {
    "collapsed": true
   },
   "outputs": [],
   "source": []
  },
  {
   "cell_type": "code",
   "execution_count": null,
   "metadata": {},
   "outputs": [],
   "source": []
  },
  {
   "cell_type": "code",
   "execution_count": 131,
   "metadata": {
    "collapsed": true
   },
   "outputs": [],
   "source": [
    "class Neural_Network(object):\n",
    "    def __init__(self): \n",
    "        #Define Hyperparameters\n",
    "        self.inputLayerSize = 16\n",
    "        self.outputLayerSize = 26\n",
    "        self.hiddenLayerSize = 32\n",
    "        \n",
    "        self.W1 = np.random.rand(self.inputLayerSize, self.hiddenLayerSize)\n",
    "        self.W2 = np.random.rand(self.hiddenLayerSize, self.outputLayerSize)\n",
    "        self.b2 = np.random.rand(1)\n",
    "        self.b2 = np.random.rand(1)\n",
    "        \n",
    "    def sigmoid(self, X):\n",
    "        return 1/(1 + np.exp(-np.float32(X)))\n",
    "    \n",
    "    def forward(self, X):\n",
    "        self.z2 = np.dot(X, self.W1)# + self.b1\n",
    "        self.a2 = self.sigmoid(self.z2)\n",
    "        self.z3 = np.dot(self.sigmoid(self.a2), self.W2)# + self.b2\n",
    "        self.yHat = self.sigmoid(self.z3)\n",
    "        \n",
    "        return self.yHat\n",
    "    \n",
    "    def sigmoidPrime(self, z):\n",
    "        #Derivative of sigmoid function\n",
    "        return np.exp(-np.float32(z))/((1+np.exp(-np.float32(z)))**2)\n",
    "    \n",
    "    def costFunction(self, X, y):\n",
    "        self.yHat = self.forward(X)\n",
    "        \n",
    "        J = 1/2 * ((y - self.yHat)**2)\n",
    "        return J\n",
    "    \n",
    "    def costFunctionPrime(self, X, y):\n",
    "        self.yHat = self.forward(X)\n",
    "        \n",
    "        delta3 = np.multiply((-(y-self.yHat)), self.sigmoidPrime(self.z3))\n",
    "        dJdW2 = np.dot(self.a2.T, delta3)\n",
    "        \n",
    "        delta2 = np.dot(delta3, self.W2.T) * self.sigmoidPrime(self.z2)\n",
    "        dJdW1 = np.dot(X.T, delta2)\n",
    "        \n",
    "        return dJdW1, dJdW2"
   ]
  },
  {
   "cell_type": "code",
   "execution_count": null,
   "metadata": {
    "collapsed": true
   },
   "outputs": [],
   "source": []
  },
  {
   "cell_type": "code",
   "execution_count": null,
   "metadata": {
    "collapsed": true
   },
   "outputs": [],
   "source": []
  },
  {
   "cell_type": "code",
   "execution_count": null,
   "metadata": {
    "collapsed": true
   },
   "outputs": [],
   "source": []
  },
  {
   "cell_type": "code",
   "execution_count": null,
   "metadata": {
    "collapsed": true
   },
   "outputs": [],
   "source": []
  },
  {
   "cell_type": "code",
   "execution_count": null,
   "metadata": {
    "collapsed": true
   },
   "outputs": [],
   "source": []
  },
  {
   "cell_type": "code",
   "execution_count": 116,
   "metadata": {
    "scrolled": true
   },
   "outputs": [
    {
     "data": {
      "text/plain": [
       "(15000, 26)"
      ]
     },
     "execution_count": 116,
     "metadata": {},
     "output_type": "execute_result"
    }
   ],
   "source": [
    "NN = Neural_Network()\n",
    "cost1 = NN.costFunction(X_train,y=temp)\n",
    "cost1.shape"
   ]
  },
  {
   "cell_type": "code",
   "execution_count": 117,
   "metadata": {
    "scrolled": false
   },
   "outputs": [],
   "source": [
    "#yHat = forward(self, X_train)\n",
    "dJdW1, dJdW2 = NN.costFunctionPrime(X_train, y = temp)"
   ]
  },
  {
   "cell_type": "code",
   "execution_count": 119,
   "metadata": {},
   "outputs": [
    {
     "data": {
      "text/plain": [
       "0.50855279182702562"
      ]
     },
     "execution_count": 119,
     "metadata": {},
     "output_type": "execute_result"
    }
   ],
   "source": [
    "dJdW1.shape\n",
    "NN.W1[0][0]"
   ]
  },
  {
   "cell_type": "code",
   "execution_count": 120,
   "metadata": {},
   "outputs": [
    {
     "data": {
      "text/plain": [
       "0.50855279182655622"
      ]
     },
     "execution_count": 120,
     "metadata": {},
     "output_type": "execute_result"
    }
   ],
   "source": [
    "#dJdW2\n",
    "\n",
    "NN.W1[0][0] -= learningRate*dJdW1[0][0]\n",
    "NN.W1[0][0]"
   ]
  },
  {
   "cell_type": "code",
   "execution_count": 123,
   "metadata": {},
   "outputs": [],
   "source": [
    "learningRate = 0.1\n",
    "\n",
    "NN.W1 = NN.W1 + learningRate*dJdW1\n",
    "NN.W2 = NN.W2 + learningRate*dJdW2\n",
    "cost2 = NN.costFunction(X_train, y = temp)"
   ]
  },
  {
   "cell_type": "code",
   "execution_count": 108,
   "metadata": {},
   "outputs": [],
   "source": [
    "NN.W1 = NN.W1 - learningRate * dJdW1\n",
    "NN.W2 = NN.W2 - learningRate * dJdW2\n",
    "cost3 = NN.costFunction(X_train, y = temp)"
   ]
  },
  {
   "cell_type": "code",
   "execution_count": 109,
   "metadata": {},
   "outputs": [
    {
     "data": {
      "text/plain": [
       "array([ 7204.2955968 ,  7226.62265693,  7227.60881878,  7194.92109083,\n",
       "        7200.23734235,  7208.51339872,  7200.99313259,  7236.77914603,\n",
       "        7210.45702214,  7214.87270652,  7218.90361628,  7218.94664465,\n",
       "        7210.48108972,  7201.93818487,  7206.92611404,  7201.96909241,\n",
       "        7199.45142996,  7213.41572847,  7221.95178803,  7201.90070676,\n",
       "        7197.14993682,  7218.92082762,  7220.22456251,  7190.54567347,\n",
       "        7210.47077504,  7233.19992269])"
      ]
     },
     "execution_count": 109,
     "metadata": {},
     "output_type": "execute_result"
    }
   ],
   "source": [
    "np.sum(cost1, axis=0)"
   ]
  },
  {
   "cell_type": "code",
   "execution_count": 110,
   "metadata": {},
   "outputs": [
    {
     "data": {
      "text/plain": [
       "array([ 7204.30418511,  7226.65367104,  7227.64328364,  7194.92109083,\n",
       "        7200.25279266,  7208.71793223,  7200.99313259,  7236.79122389,\n",
       "        7210.45874125,  7214.87786704,  7218.90533742,  7218.94836578,\n",
       "        7210.48108972,  7201.93818487,  7206.92783232,  7201.96909241,\n",
       "        7201.00610813,  7213.41744829,  7221.95178803,  7201.97969521,\n",
       "        7197.17739243,  7218.92254875,  7220.2417772 ,  7190.59196266,\n",
       "        7210.47077504,  7233.22061747])"
      ]
     },
     "execution_count": 110,
     "metadata": {},
     "output_type": "execute_result"
    }
   ],
   "source": [
    "np.sum(cost2, axis=0)"
   ]
  },
  {
   "cell_type": "code",
   "execution_count": 111,
   "metadata": {},
   "outputs": [
    {
     "data": {
      "text/plain": [
       "array([ 7204.2955968 ,  7226.62265693,  7227.60881878,  7194.92109083,\n",
       "        7200.23734235,  7208.51339872,  7200.99313259,  7236.77914603,\n",
       "        7210.45702214,  7214.87270652,  7218.90361628,  7218.94664465,\n",
       "        7210.48108972,  7201.93818487,  7206.92611404,  7201.96909241,\n",
       "        7199.45142996,  7213.41572847,  7221.95178803,  7201.90070676,\n",
       "        7197.14993682,  7218.92082762,  7220.22456251,  7190.54567347,\n",
       "        7210.47077504,  7233.19992269])"
      ]
     },
     "execution_count": 111,
     "metadata": {},
     "output_type": "execute_result"
    }
   ],
   "source": [
    "np.sum(cost3, axis=0)"
   ]
  },
  {
   "cell_type": "code",
   "execution_count": 124,
   "metadata": {
    "scrolled": true
   },
   "outputs": [
    {
     "data": {
      "text/plain": [
       "4.693595279920857e-12"
      ]
     },
     "execution_count": 124,
     "metadata": {},
     "output_type": "execute_result"
    }
   ],
   "source": [
    "learningRate*dJdW1[0][0]"
   ]
  },
  {
   "cell_type": "code",
   "execution_count": null,
   "metadata": {},
   "outputs": [],
   "source": []
  },
  {
   "cell_type": "code",
   "execution_count": null,
   "metadata": {},
   "outputs": [],
   "source": []
  },
  {
   "cell_type": "code",
   "execution_count": null,
   "metadata": {},
   "outputs": [],
   "source": []
  },
  {
   "cell_type": "code",
   "execution_count": null,
   "metadata": {
    "collapsed": true
   },
   "outputs": [],
   "source": []
  }
 ],
 "metadata": {
  "kernelspec": {
   "display_name": "Python 3",
   "language": "python",
   "name": "python3"
  },
  "language_info": {
   "codemirror_mode": {
    "name": "ipython",
    "version": 3
   },
   "file_extension": ".py",
   "mimetype": "text/x-python",
   "name": "python",
   "nbconvert_exporter": "python",
   "pygments_lexer": "ipython3",
   "version": "3.6.0"
  }
 },
 "nbformat": 4,
 "nbformat_minor": 2
}
